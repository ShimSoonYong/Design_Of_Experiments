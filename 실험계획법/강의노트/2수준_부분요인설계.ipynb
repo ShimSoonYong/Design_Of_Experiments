{
 "cells": [
  {
   "cell_type": "markdown",
   "metadata": {},
   "source": [
    "# 2수준 부분요인설계"
   ]
  },
  {
   "cell_type": "markdown",
   "metadata": {},
   "source": [
    "## 부분요인설계"
   ]
  },
  {
   "cell_type": "markdown",
   "metadata": {},
   "source": [
    "- 관심 있는 요인이 많아질수록 실험 설계에 필요한 계산량이 급증\n",
    "  - 실제로 그 모든 실험을 수행하는 것은 불가능한 경우가 많다.\n",
    "\n",
    "**1. 계산량 증가의 예**\n",
    "- 예를 들어, $2^6$ 설계의 경우:\n",
    "  - 자유도는 63.\n",
    "  - 주요 효과(main effect)에 대한 것은 6뿐.\n",
    "  - 두 요인의 교호작용(interaction effect)에 대한 것은 15.\n",
    "  - 3 요인 이상의 교호작용에 관한 자유도는 42.\n",
    "    - **결과**: 주 관심이 되는 효과 외에도 계산량이 너무 많음.\n",
    "\n",
    "---\n"
   ]
  },
  {
   "cell_type": "markdown",
   "metadata": {},
   "source": [
    "\n",
    "**2. 부분요인실험**\n",
    "- **정의**: 실험자가 합리적인 수준에서 특정 고차 교호작용을 무시할 수 있는 경우, 완전요인실험의 일부만 실행하는 설계를 **부분요인실험(fractional factorial design)** 이라고 함.\n",
    "- **사용 분야**:\n",
    "  - 제품 및 프로세스 설계.\n",
    "  - 공정 개선.\n",
    "  - 산업 및 비즈니스 실험 분야.\n",
    "\n",
    "---\n"
   ]
  },
  {
   "cell_type": "markdown",
   "metadata": {},
   "source": [
    "\n",
    "**3. 부분요인실험의 장점**\n",
    "- 계산량을 줄이며, 주요 효과와 낮은 차수의 교호작용 효과에 집중할 수 있음.\n",
    "- 실용적이고 널리 사용되는 설계 방법.\n",
    "\n",
    "---"
   ]
  },
  {
   "cell_type": "markdown",
   "metadata": {},
   "source": [
    "## $2^k$ 설계의 $\\frac{1}{2}$ 부분\n",
    "\n"
   ]
  },
  {
   "attachments": {
    "image.png": {
     "image/png": "[encoded data removed]"
    }
   },
   "cell_type": "markdown",
   "metadata": {},
   "source": [
    "**1. 정의**\n",
    "- $2^3$ 설계의 경우:\n",
    "  - 총 8개의 처리조합에 대해 실험을 수행해야 함.\n",
    "  - 그러나 여러 제약으로 인해 4개의 처리조합만 실행 가능한 경우:\n",
    "    - 이를 $2^{3-1}$ 설계 또는 $2^3$ 설계의 $\\frac{1}{2}$ 부분이라고 함.\n",
    "\n",
    "**2. 특징**\n",
    "- $\\frac{1}{2}$ 부분 설계는 처리조합의 수를 줄이면서도 주요 효과와 낮은 차수의 교호작용을 분석할 수 있는 설계 방법.\n",
    "- 실험 비용 절감과 효율성을 제공함.\n",
    "\n",
    "![image.png](attachment:image.png)\n",
    "\n",
    "어떤 걸 실제로 하고 어떤 걸 하지 않을지는 다 기준이 있다.\n",
    "\n",
    "---"
   ]
  },
  {
   "cell_type": "markdown",
   "metadata": {},
   "source": [
    "**1. 정의**\n",
    "- $2^3$ 설계의 경우 총 8개의 처리조합에 대해 실험을 수행해야 하지만,\n",
    "- 여러 제약으로 인해 4개의 처리조합만 실행 가능한 경우:\n",
    "  - 이를 $2^{3-1}$ 설계 또는 $2^3$ 설계의 $\\frac{1}{2}$ 부분이라 함.\n",
    "\n",
    "---\n"
   ]
  },
  {
   "cell_type": "markdown",
   "metadata": {},
   "source": [
    "\n",
    "**2. 예시**\n",
    "\n",
    "**전체 $2^3$ 요인 설계 (기본 설계)**\n",
    "\n",
    "| 시행 | $A$ | $B$ | $C$ |\n",
    "|------|-----|-----|-----|\n",
    "| 1    | $+$ | $+$ | $+$ |\n",
    "| 2    | $+$ | $-$ | $-$ |\n",
    "| 3    | $-$ | $+$ | $-$ |\n",
    "| 4    | $-$ | $-$ | $+$ |\n"
   ]
  },
  {
   "cell_type": "markdown",
   "metadata": {},
   "source": [
    "---\n",
    "\n",
    "**$2^{3-1}$ 설계의 2가지 경우**\n",
    "\n",
    "1. $2^{3-1}, I = ABC$\n",
    "   - $C = AB$\n",
    "\n",
    "| 시행 | $A$ | $B$ | $C = AB$ |\n",
    "|------|-----|-----|---------|\n",
    "| 1    | $+$ | $+$ | $+$     |\n",
    "| 2    | $+$ | $-$ | $-$     |\n",
    "| 3    | $-$ | $+$ | $-$     |\n",
    "| 4    | $-$ | $-$ | $+$     |\n",
    "- $C$가 $AB$에 종속되어 결정되는 구조이다.\n"
   ]
  },
  {
   "cell_type": "markdown",
   "metadata": {},
   "source": [
    "\n",
    "2. $2^{3-1}, I = -ABC$\n",
    "   - $C = -AB$\n",
    "\n",
    "| 시행 | $A$ | $B$ | $C = -AB$ |\n",
    "|------|-----|-----|----------|\n",
    "| 1    | $+$ | $+$ | $-$      |\n",
    "| 2    | $+$ | $-$ | $+$      |\n",
    "| 3    | $-$ | $+$ | $+$      |\n",
    "| 4    | $-$ | $-$ | $-$      |\n",
    "\n",
    "- 마찬가지로 $C$가 $-AB$에 종속되어 결정된다.\n",
    "\n",
    "---\n",
    "\n"
   ]
  },
  {
   "cell_type": "markdown",
   "metadata": {},
   "source": [
    "**3. 특징**\n",
    "- $\\frac{1}{2}$ 부분 설계는 전체 설계에서 절반의 처리조합만 사용하여 주요 효과와 낮은 차수의 교호작용 분석을 가능하게 함.\n",
    "- 실험 비용 절감과 효율성을 높이는 설계 방법.\n",
    "\n",
    "---"
   ]
  },
  {
   "cell_type": "markdown",
   "metadata": {},
   "source": [
    "### 예시: $2^4$ 설계의 절반부분설계\n"
   ]
  },
  {
   "cell_type": "markdown",
   "metadata": {},
   "source": [
    "\n",
    "**1. 절반부분설계 개요**\n",
    "- $I = ABCD$인 $2^{4-1}$ 설계의 절반부분설계.\n",
    "\n",
    "**2. 기본 설계**\n",
    "\n",
    "| 시행 | $A$ | $B$ | $C$ | $D = ABC$ | 처리조합 | 여과음 |\n",
    "|------|-----|-----|-----|-----------|----------|-------|\n",
    "| 1    | $-$ | $-$ | $-$ | $-$       | $(1)$    | 45    |\n",
    "| 2    | $+$ | $-$ | $-$ | $+$       | $ad$     | 100   |\n",
    "| 3    | $-$ | $+$ | $-$ | $+$       | $bd$     | 45    |\n",
    "| 4    | $+$ | $+$ | $-$ | $-$       | $ab$     | 65    |\n",
    "| 5    | $-$ | $-$ | $+$ | $+$       | $cd$     | 75    |\n",
    "| 6    | $+$ | $-$ | $+$ | $-$       | $ac$     | 60    |\n",
    "| 7    | $-$ | $+$ | $+$ | $-$       | $bc$     | 80    |\n",
    "| 8    | $+$ | $+$ | $+$ | $+$       | $abcd$   | 96    |\n",
    "\n",
    "(출처: Montgomery, 실험설계 및 분석 제10판, Wiley, 자유아카데미)\n",
    "\n",
    "---\n"
   ]
  },
  {
   "cell_type": "markdown",
   "metadata": {},
   "source": [
    "**3. 절반부분설계의 제너레이터**\n",
    "\n",
    "- $2^k$ 설계에서 각 요인은 $(+,-)$ 중 하나로 표현되기 때문에 제곱하면 그냥 $+$로 고정됨에 주의\n",
    "\n",
    "**제너레이터**:\n",
    "- $I = ABCD$ (Identity 열과 제너레이터).\n",
    "\n",
    "**추가 관계식**:\n",
    "- $A = A^2 BCD = BCD$\n",
    "- $B = AB^2CD = ACD$\n",
    "- $C = ABC^2D = ABD$\n",
    "- $D = ABCD^2 = ABC$\n",
    "\n",
    "**결론**:\n",
    "- $AB = CD$\n",
    "- $AC = BD$\n",
    "- $BC = AD$\n",
    "\n",
    "\n",
    "**해석**:\n",
    "- 등호가 성립하는 처리조합끼리는 요인효과가 중첩됨을 의미한다. \n",
    "- 즉 처리효과나 유의확률을 계산했을 때 양변의 두 요인들에 대한 정보가 하나의 값에 동시에 존재함을 의미한다.\n",
    "\n",
    "---\n",
    "\n"
   ]
  },
  {
   "cell_type": "markdown",
   "metadata": {},
   "source": [
    "**4. 특징**\n",
    "- 절반부분설계를 통해 처리조합의 수를 줄이며 주요 효과와 낮은 차수의 교호작용을 분석 가능.\n",
    "- 실험 비용 절감과 효율성을 제공하며, 주어진 제너레이터를 통해 추가 관계식을 생성할 수 있음.\n",
    "\n",
    "\n",
    "---"
   ]
  },
  {
   "cell_type": "markdown",
   "metadata": {},
   "source": [
    "**1. 효과 계산**\n",
    "\n",
    "**$[A]$ 계산**\n",
    "$$\n",
    "[A] = \\frac{1}{4}(100 + 65 + 60 + 96 - 45 - 45 - 75 - 80)\n",
    "$$\n",
    "- 계산 결과:\n",
    "$$\n",
    "[A] = 19 \\quad \\Rightarrow \\quad A + BCD\n",
    "$$\n",
    "\n",
    "**$[AB]$ 계산**\n",
    "$$\n",
    "[AB] = \\frac{1}{4}(45 + 65 + 75 + 96 - 100 - 45 - 60 - 80)\n",
    "$$\n",
    "- 계산 결과:\n",
    "$$\n",
    "[AB] = -1 \\quad \\Rightarrow \\quad AB + CD\n",
    "$$\n",
    "\n",
    "---\n"
   ]
  },
  {
   "cell_type": "markdown",
   "metadata": {},
   "source": [
    "\n",
    "**2. 해석**\n",
    "- $[A]$: 주요 효과 $A$와 $BCD$ 교호작용의 합.\n",
    "- $[AB]$: $AB$와 $CD$ 교호작용의 합.\n",
    "- 절반부분설계에서는 교호작용이 겹쳐서 계산되므로 효과를 분리하기 위해 추가적인 가정이나 모델링이 필요.\n",
    "\n",
    "---\n"
   ]
  },
  {
   "cell_type": "markdown",
   "metadata": {},
   "source": [
    "**1. 추정치 및 가명 구조**\n",
    "\n",
    "| 추정치    | 가명 구조               |\n",
    "|-----------|-------------------------|\n",
    "| $[A] = 19.00$   | $[A] \\rightarrow A + BCD$    |\n",
    "| $[B] = 1.50$    | $[B] \\rightarrow B + ACD$    |\n",
    "| $[C] = 14.00$   | $[C] \\rightarrow C + ABD$    |\n",
    "| $[D] = 16.50$   | $[D] \\rightarrow D + ABC$    |\n",
    "| $[AB] = -1.00$  | $[AB] \\rightarrow AB + CD$   |\n",
    "| $[AC] = -18.50$ | $[AC] \\rightarrow AC + BD$   |\n",
    "| $[AD] = 19.00$  | $[AD] \\rightarrow AD + BC$   |\n",
    "\n",
    "---\n"
   ]
  },
  {
   "cell_type": "markdown",
   "metadata": {},
   "source": [
    "\n",
    "**2. 해석**\n",
    "\n",
    "**(a) 주요 효과 분석**\n",
    "- $A$, $C$, $D$는 중요한 효과로 나타남.\n",
    "- $AC$, $AD$도 중요한 효과일 확률이 높음:\n",
    "  - $AC + BD$, $AD + BC$가 큰 효과를 가짐.\n",
    "\n",
    "**(b) $AB$ 효과의 중요성**\n",
    "- $AB$는 중요하지 않은 효과로 나타남. 그런데 $AB$는 $CD$와 중첩되어 있다.\n",
    "- 따라서 $AB$와 $CD$ 모두 무시할 만한 효과로 간주 가능.\n",
    "\n",
    "---\n"
   ]
  },
  {
   "cell_type": "markdown",
   "metadata": {},
   "source": [
    "\n",
    "**회귀식**\n",
    "$$\n",
    "\\hat{y} = \\hat{\\beta}_0 + \\hat{\\beta}_1 x_1 + \\hat{\\beta}_3 x_3 + \\hat{\\beta}_4 x_4 + \\hat{\\beta}_{13} x_1 x_3 + \\hat{\\beta}_{14} x_1 x_4\n",
    "$$\n",
    "\n",
    "**계수 대입**\n",
    "$$\n",
    "\\hat{y} = 70.75 + \\left(\\frac{19.00}{2}\\right)x_1 + \\left(\\frac{14.00}{2}\\right)x_3 + \\left(\\frac{16.50}{2}\\right)x_4 - \\left(\\frac{18.50}{2}\\right)x_1 x_3 + \\left(\\frac{19.00}{2}\\right)x_1 x_4\n",
    "$$\n",
    "\n",
    "---\n"
   ]
  },
  {
   "cell_type": "markdown",
   "metadata": {},
   "source": [
    "\n",
    "**해석**\n",
    "- $\\hat{\\beta}_0$: 상수항으로, 평균값 $70.75$.\n",
    "- 각 계수는 추정치의 절반값으로 계산됨:\n",
    "  - $\\hat{\\beta}_1 = \\frac{19.00}{2}$, $\\hat{\\beta}_3 = \\frac{14.00}{2}$, $\\hat{\\beta}_4 = \\frac{16.50}{2}$.\n",
    "  - 교호작용 계수: $\\hat{\\beta}_{13} = -\\frac{18.50}{2}$, $\\hat{\\beta}_{14} = \\frac{19.00}{2}$.\n",
    "\n"
   ]
  },
  {
   "cell_type": "markdown",
   "metadata": {},
   "source": [
    "\n",
    "**1. Identity와 제너레이터 관계**\n",
    "$$\n",
    "I = -ABCD\n",
    "$$\n",
    "\n",
    "**2. 주요 효과 관계식**\n",
    "\n",
    "**A의 관계식**\n",
    "$$\n",
    "A = -A^2BCD = -BCD\n",
    "$$\n",
    "\n",
    "**B의 관계식**\n",
    "$$\n",
    "B = -AB^2CD = -ACD\n",
    "$$\n",
    "\n",
    "**C의 관계식**\n",
    "$$\n",
    "C = -ABC^2D = -ABD\n",
    "$$\n",
    "\n",
    "**D의 관계식**\n",
    "$$\n",
    "D = -ABCD^2 = -ABC\n",
    "$$\n",
    "\n",
    "---\n"
   ]
  },
  {
   "cell_type": "markdown",
   "metadata": {},
   "source": [
    "\n",
    "**3. 교호작용 관계식**\n",
    "\n",
    "- $AB = -CD$\n",
    "- $AC = -BD$\n",
    "- $BC = -AD$\n"
   ]
  }
 ],
 "metadata": {
  "language_info": {
   "name": "python"
  }
 },
 "nbformat": 4,
 "nbformat_minor": 2
}
