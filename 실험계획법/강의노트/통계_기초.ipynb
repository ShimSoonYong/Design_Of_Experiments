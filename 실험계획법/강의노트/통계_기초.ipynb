{
 "cells": [
  {
   "cell_type": "markdown",
   "metadata": {},
   "source": [
    "# 기본적인 통계 개념 및 표본 통계"
   ]
  },
  {
   "cell_type": "markdown",
   "metadata": {},
   "source": [
    "__2장 - 단순 비교 실험__\n",
    "- 기본적인 통계 개념\n",
    "- 표본 추출과 표본 분포\n",
    "- 평균 차이에 대한 추정, 랜덤화 설계\n",
    "- 평균 차이에 대한 추정, 쌍체비교 설계\n",
    "- 정규분포의 분산의 추정"
   ]
  },
  {
   "cell_type": "code",
   "execution_count": 18,
   "metadata": {},
   "outputs": [
    {
     "data": {
      "text/html": [
       "<div>\n",
       "<style scoped>\n",
       "    .dataframe tbody tr th:only-of-type {\n",
       "        vertical-align: middle;\n",
       "    }\n",
       "\n",
       "    .dataframe tbody tr th {\n",
       "        vertical-align: top;\n",
       "    }\n",
       "\n",
       "    .dataframe thead th {\n",
       "        text-align: right;\n",
       "    }\n",
       "</style>\n",
       "<table border=\"1\" class=\"dataframe\">\n",
       "  <thead>\n",
       "    <tr style=\"text-align: right;\">\n",
       "      <th></th>\n",
       "      <th>수정된 물타르 (y1)</th>\n",
       "      <th>수정되지 않은 물타르 (y2)</th>\n",
       "    </tr>\n",
       "  </thead>\n",
       "  <tbody>\n",
       "    <tr>\n",
       "      <th>0</th>\n",
       "      <td>16.85</td>\n",
       "      <td>16.62</td>\n",
       "    </tr>\n",
       "    <tr>\n",
       "      <th>1</th>\n",
       "      <td>16.40</td>\n",
       "      <td>16.75</td>\n",
       "    </tr>\n",
       "    <tr>\n",
       "      <th>2</th>\n",
       "      <td>17.21</td>\n",
       "      <td>17.37</td>\n",
       "    </tr>\n",
       "    <tr>\n",
       "      <th>3</th>\n",
       "      <td>16.35</td>\n",
       "      <td>17.12</td>\n",
       "    </tr>\n",
       "    <tr>\n",
       "      <th>4</th>\n",
       "      <td>16.52</td>\n",
       "      <td>16.98</td>\n",
       "    </tr>\n",
       "    <tr>\n",
       "      <th>5</th>\n",
       "      <td>17.04</td>\n",
       "      <td>16.87</td>\n",
       "    </tr>\n",
       "    <tr>\n",
       "      <th>6</th>\n",
       "      <td>16.96</td>\n",
       "      <td>17.34</td>\n",
       "    </tr>\n",
       "    <tr>\n",
       "      <th>7</th>\n",
       "      <td>17.15</td>\n",
       "      <td>17.02</td>\n",
       "    </tr>\n",
       "    <tr>\n",
       "      <th>8</th>\n",
       "      <td>16.59</td>\n",
       "      <td>17.08</td>\n",
       "    </tr>\n",
       "    <tr>\n",
       "      <th>9</th>\n",
       "      <td>16.57</td>\n",
       "      <td>17.27</td>\n",
       "    </tr>\n",
       "  </tbody>\n",
       "</table>\n",
       "</div>"
      ],
      "text/plain": [
       "   수정된 물타르 (y1)  수정되지 않은 물타르 (y2)\n",
       "0         16.85             16.62\n",
       "1         16.40             16.75\n",
       "2         17.21             17.37\n",
       "3         16.35             17.12\n",
       "4         16.52             16.98\n",
       "5         17.04             16.87\n",
       "6         16.96             17.34\n",
       "7         17.15             17.02\n",
       "8         16.59             17.08\n",
       "9         16.57             17.27"
      ]
     },
     "execution_count": 18,
     "metadata": {},
     "output_type": "execute_result"
    }
   ],
   "source": [
    "import pandas as pd\n",
    "\n",
    "# 데이터 수동 입력\n",
    "data = {\n",
    "    '수정된 물타르 (y1)': [16.85, 16.40, 17.21, 16.35, 16.52, 17.04, 16.96, 17.15, 16.59, 16.57],\n",
    "    '수정되지 않은 물타르 (y2)': [16.62, 16.75, 17.37, 17.12, 16.98, 16.87, 17.34, 17.02, 17.08, 17.27]\n",
    "}\n",
    "\n",
    "# 데이터프레임으로 변환\n",
    "df = pd.DataFrame(data)\n",
    "\n",
    "# 데이터프레임 출력\n",
    "df"
   ]
  },
  {
   "cell_type": "markdown",
   "metadata": {},
   "source": [
    "## 기본적인 통계 개념"
   ]
  },
  {
   "cell_type": "markdown",
   "metadata": {},
   "source": [
    "수행(Run): 관측치  \n",
    "실험 오차(Experimental error): 관측치와 실제 값이 다른 정도  \n",
    "확률변수(Random variable): 실험의 가능한 결과를 수치적으로 표현하며, 각각의 가능한 결과에 특정 확률이 할당된 변수라고 표현\n",
    "- 이산형 확률변수(Discrete random variable): 결과가 유한하거나 값을 셀 수 있는 변수\n",
    "- 연속형 확률변수(Continuous random variable): 셀 수 없으며, 무한한 값을 가지고 있으며 실수 범위 내의 모든 값에서 어떤 값이든 결과가 나올 수 있는 경우"
   ]
  },
  {
   "cell_type": "markdown",
   "metadata": {},
   "source": [
    "### 그래프 표현"
   ]
  },
  {
   "cell_type": "code",
   "execution_count": 19,
   "metadata": {},
   "outputs": [
    {
     "data": {
      "image/png": "[encoded data removed]",
      "text/plain": [
       "<Figure size 1000x200 with 1 Axes>"
      ]
     },
     "metadata": {},
     "output_type": "display_data"
    }
   ],
   "source": [
    "import matplotlib.pyplot as plt\n",
    "import numpy as np\n",
    "\n",
    "plt.rcParams['font.family'] = 'NanumGothic'\n",
    "plt.rcParams['axes.unicode_minus'] = False\n",
    "\n",
    "# Y축 위치 설정 (각 그룹을 나누기 위해 각각의 위치 지정)\n",
    "y1_pos = np.ones(len(df['수정된 물타르 (y1)'])) * 1  # 수정된 물타르\n",
    "y2_pos = np.ones(len(df['수정되지 않은 물타르 (y2)'])) * 0  # 수정되지 않은 물타르\n",
    "\n",
    "# 그래프 그리기\n",
    "plt.figure(figsize=(10, 2))\n",
    "\n",
    "# 점도표 (수정된 물타르)\n",
    "plt.plot(df['수정된 물타르 (y1)'], y1_pos, 'ko', label='수정된 물타르')  # 'ko'는 검은색 점\n",
    "\n",
    "# 점도표 (수정되지 않은 물타르)\n",
    "plt.plot(df['수정되지 않은 물타르 (y2)'], y2_pos, 'ko', label='수정되지 않은 물타르')  # 'ko'는 검은색 점\n",
    "\n",
    "# X축 라벨\n",
    "plt.xlabel('강도 (kgf/cm^2)')\n",
    "plt.xticks(np.arange(16.3, 17.5, 0.1))  # X축 범위 설정\n",
    "\n",
    "# Y축 숨기기 (수평점도를 위해)\n",
    "plt.yticks([0, 1], ['수정되지 않음', '수정됨'])\n",
    "\n",
    "# 그래프 타이틀\n",
    "plt.title('Dot Diagram')\n",
    "\n",
    "# 그래프 출력\n",
    "plt.show()"
   ]
  },
  {
   "cell_type": "code",
   "execution_count": 20,
   "metadata": {},
   "outputs": [
    {
     "data": {
      "image/png": "[encoded data removed]",
      "text/plain": [
       "<Figure size 640x480 with 1 Axes>"
      ]
     },
     "metadata": {},
     "output_type": "display_data"
    }
   ],
   "source": [
    "df.plot.box()\n",
    "plt.title('Box Plot')\n",
    "plt.show()"
   ]
  },
  {
   "cell_type": "markdown",
   "metadata": {},
   "source": [
    "### 확률분포(Probability Distribution)"
   ]
  },
  {
   "cell_type": "markdown",
   "metadata": {},
   "source": [
    "__확률질량함수(Probability mass function)__\n",
    "- $p(y)$ == 확률\n",
    "- 확률분포 $y$가 이산형인 경우\n",
    "\n",
    "__확률밀도함수(Probability density function)__\n",
    "- $f(y) \\neq$ 확률\n",
    "    - 일정 구간에 대해서만 확률이 주어진다.\n",
    "- 확률분포 $y$가 연속형인 경우"
   ]
  },
  {
   "cell_type": "code",
   "execution_count": 21,
   "metadata": {},
   "outputs": [
    {
     "data": {
      "image/png": "[encoded data removed]",
      "text/plain": [
       "<Figure size 1200x600 with 2 Axes>"
      ]
     },
     "metadata": {},
     "output_type": "display_data"
    }
   ],
   "source": [
    "import numpy as np\n",
    "import matplotlib.pyplot as plt\n",
    "from scipy.stats import norm\n",
    "\n",
    "# 1. 이산형 분포 (Discrete Distribution)\n",
    "y_values = np.arange(1, 15)\n",
    "p_values = np.array([1, 2, 3, 4, 5, 6, 7, 6, 5, 4, 3, 2, 1, 0.5])  # 임의의 확률 값\n",
    "\n",
    "plt.figure(figsize=(12, 6))\n",
    "\n",
    "# 이산형 분포 (왼쪽 그래프)\n",
    "plt.subplot(1, 2, 1)\n",
    "plt.bar(y_values, p_values, color='black', width=0.1)\n",
    "plt.xlabel('y')\n",
    "plt.ylabel('p(y)')\n",
    "plt.title('(a) 이산형 분포')\n",
    "\n",
    "# 2. 연속형 분포 (Continuous Distribution)\n",
    "x = np.linspace(-3, 3, 1000)\n",
    "y = norm.pdf(x, 0, 1)\n",
    "\n",
    "plt.subplot(1, 2, 2)\n",
    "plt.plot(x, y, color='black')\n",
    "\n",
    "# 구간 a, b의 음영 처리\n",
    "a, b = -1, 1\n",
    "x_fill = np.linspace(a, b, 1000)\n",
    "y_fill = norm.pdf(x_fill, 0, 1)\n",
    "plt.fill_between(x_fill, y_fill, color='gray', alpha=0.5)\n",
    "\n",
    "plt.xlabel('y')\n",
    "plt.ylabel('f(y)')\n",
    "plt.title('(b) 연속형 분포')\n",
    "\n",
    "# 그래프 출력\n",
    "plt.tight_layout()\n",
    "plt.show()"
   ]
  },
  {
   "cell_type": "markdown",
   "metadata": {},
   "source": [
    "### 평균, 분산, 기대값"
   ]
  },
  {
   "cell_type": "markdown",
   "metadata": {},
   "source": [
    "__평균 및 기대값__\n",
    "\n",
    "$$\n",
    "\\mu = E(y) = \n",
    "\\begin{cases} \n",
    "\\int_{-\\infty}^{\\infty} y f(y)\\, dy & \\text{y가 연속형} \\\\\n",
    "\\sum_{\\text{모든 y}} y p(y_j) & \\text{y가 이산형}\n",
    "\\end{cases}\n",
    "$$"
   ]
  },
  {
   "cell_type": "markdown",
   "metadata": {},
   "source": [
    "__분산__\n",
    "\n",
    "$$\n",
    "\\sigma^2 =\n",
    "\\begin{cases}\n",
    "\\int_{-\\infty}^{\\infty}(y-\\mu)^2 f(y)\\ dy & \\text{y가 연속형}\\\\\n",
    "\\sum_{\\text{모든 y}} (y-\\mu)^2 p(y_j) & \\text{y가 이산형}\n",
    "\\end{cases}\n",
    "$$\n",
    "\n",
    "$$\n",
    "\\sigma^2 = E[(y-\\mu)^2] = V(y)=E[(y-\\mu)^2]=\\sigma^2\n",
    "$$\n",
    "\n",
    "$$\n",
    "V(y_1 + y_2)=V(y_1) + V(y_2) + 2Cov(y_1, y_2) \\\\\n",
    "Cov(y_1, y_2) = E[(y_1 - \\mu_1)(y_2 - \\mu_2)]\n",
    "$$"
   ]
  },
  {
   "cell_type": "markdown",
   "metadata": {},
   "source": [
    "### 표본추출과 표본분포"
   ]
  },
  {
   "cell_type": "markdown",
   "metadata": {},
   "source": [
    "__표본평균__\n",
    "- 모평균 $\\mu$의 점추정량\n",
    "- 불편추정량(Unbiased estimator): 점추정량의 장기평균이 추정하려는 모수와 같아야 한다.\n",
    "    - 표본추출을 여러 번 해서 각각 평균을 낸 다음 전체 평균을 낸 것이 장기평균\n",
    "- 최소분산(Minimum variance): 모수의 어떤 다른 추정치의 분산보다도 작은 분산을 가지고 있어야 한다.\n",
    "\n",
    "$$\n",
    "\\bar{y} = \\frac{\\sum_{i=1}^{n}y_i}{n}\n",
    "$$"
   ]
  },
  {
   "cell_type": "markdown",
   "metadata": {},
   "source": [
    "__표본분산__\n",
    "- 모분산 $\\sigma^2$의 점추정량\n",
    "- 불편추정량, 최소분산 해당\n",
    "\n",
    "$$\n",
    "S^2 = \\frac{\\sum_{i=1}^{n}(y_i-\\bar{y})^2}{n-1}\n",
    "$$"
   ]
  },
  {
   "cell_type": "markdown",
   "metadata": {},
   "source": [
    "__자유도__\n",
    "- 데이터에 있는 독립적인 값의 수\n",
    "- 표본 내에서 자유롭게 변할 수 있는 값의 수\n",
    "- 예: 표본 평균을 계산할 때, 표본 크기가 $n$이면, 마지막 값은 나머지 $n-1$개의 값으로부터 결정된다."
   ]
  },
  {
   "cell_type": "markdown",
   "metadata": {},
   "source": [
    "__표본분포__\n",
    "- 모집단에서 동일한 크기의 표본을 여러 번 추출해서 계산한 __통계량의__ 확률분포"
   ]
  },
  {
   "cell_type": "markdown",
   "metadata": {},
   "source": [
    "__정규분포__\n",
    "- 데이터가 평균을 중심으로 대칭적인 종 모양의 분포를 따르는 확률분포\n",
    "- 다양한 통계 방법론이 정규분포를 가정한다.\n",
    "\n",
    "$$\n",
    "f(y)= \\frac{1}{\\sigma \\sqrt{2\\pi}} \\exp(-(1/2)[(y-\\mu)/\\sigma]^2),\\ -\\infty < y < \\infty\n",
    "$$"
   ]
  },
  {
   "cell_type": "markdown",
   "metadata": {},
   "source": [
    "__표준정규분포__\n",
    "- 평균이 0이고 분산이 1인 특수한 정규분포.\n",
    "- $z=\\frac{y-\\mu}{\\sigma}$"
   ]
  },
  {
   "cell_type": "markdown",
   "metadata": {},
   "source": [
    "__중심극한정리__\n",
    "- 표본평균의 분포가 표본 크기가 충분히 클 때, 모집단의 분포와 상관없이 정규분포를 대략적으로 따른다는 이론이다."
   ]
  },
  {
   "cell_type": "markdown",
   "metadata": {},
   "source": [
    "__카이제곱분포__\n",
    "- 표본분산이 모집단의 분산과 얼마나 차이가 나는지 평가할 때 활용한다.\n",
    "- 두 범주형 변수 사이에 독립성이 있는지 평가할 때도 사용한다.\n",
    "- 자유도가 커질수록 정규분포로 근사한다."
   ]
  },
  {
   "cell_type": "markdown",
   "metadata": {},
   "source": [
    "__t 분포__\n",
    "- 모집단의 평균을 추정할 때 활용한다.\n",
    "- 표본의 크기가 작거나 모집단의 분산을 알 수 없을 때 유용하다. \n",
    "- 정규분포와 유사하지만, 자유도에 따라 분포의 모양이 달라진다."
   ]
  },
  {
   "cell_type": "markdown",
   "metadata": {},
   "source": [
    "__F 분포__\n",
    "- 두 모집단의 분산을 비교할 때 활용한다.\n",
    "- 두 개의 카이제곱분포를 서로 나눈 분포의 형태이다."
   ]
  }
 ],
 "metadata": {
  "kernelspec": {
   "display_name": "Python 3",
   "language": "python",
   "name": "python3"
  },
  "language_info": {
   "codemirror_mode": {
    "name": "ipython",
    "version": 3
   },
   "file_extension": ".py",
   "mimetype": "text/x-python",
   "name": "python",
   "nbconvert_exporter": "python",
   "pygments_lexer": "ipython3",
   "version": "3.10.0"
  }
 },
 "nbformat": 4,
 "nbformat_minor": 2
}
