{
 "cells": [
  {
   "cell_type": "markdown",
   "metadata": {},
   "source": [
    "엔지니어는 절삭속도(A), 공구기하학(B), 절삭각(C)이 공구수명(시간당)에 미치는 효과에 대해 관심이 있다. 각 요소들은 두 개의 수준을 유지한다."
   ]
  },
  {
   "cell_type": "markdown",
   "metadata": {},
   "source": [
    "|A|B|C|처리조합|I|II|III|\n",
    "|---|---|---|---|---|---|---|\n",
    "|-|-|-|(1)|22|31|25|\n",
    "|+|-|-|a|32|43|29|\n",
    "|-|+|-|b|35|34|50|\n",
    "|+|+|-|ab|55|47|46|\n",
    "|-|-|+|c|44|45|38|\n",
    "|+|-|+|ac|40|37|36|\n",
    "|-|+|+|bc|60|50|54|\n",
    "|+|+|+|abc|39|41|47|"
   ]
  },
  {
   "cell_type": "markdown",
   "metadata": {},
   "source": [
    "# (a) 요인 효과 추정"
   ]
  },
  {
   "cell_type": "markdown",
   "metadata": {},
   "source": [
    "설계행렬의 부호가 +인 것끼리 더하고 -인 것끼리 더해서 빼면 된다."
   ]
  },
  {
   "cell_type": "markdown",
   "metadata": {},
   "source": [
    "## 데이터프레임 설정"
   ]
  },
  {
   "cell_type": "code",
   "execution_count": 1,
   "metadata": {},
   "outputs": [
    {
     "data": {
      "text/html": [
       "<div>\n",
       "<style scoped>\n",
       "    .dataframe tbody tr th:only-of-type {\n",
       "        vertical-align: middle;\n",
       "    }\n",
       "\n",
       "    .dataframe tbody tr th {\n",
       "        vertical-align: top;\n",
       "    }\n",
       "\n",
       "    .dataframe thead th {\n",
       "        text-align: right;\n",
       "    }\n",
       "</style>\n",
       "<table border=\"1\" class=\"dataframe\">\n",
       "  <thead>\n",
       "    <tr style=\"text-align: right;\">\n",
       "      <th></th>\n",
       "      <th>a</th>\n",
       "      <th>b</th>\n",
       "      <th>c</th>\n",
       "      <th>처리조합</th>\n",
       "      <th>I</th>\n",
       "      <th>II</th>\n",
       "      <th>III</th>\n",
       "    </tr>\n",
       "  </thead>\n",
       "  <tbody>\n",
       "    <tr>\n",
       "      <th>0</th>\n",
       "      <td>-1</td>\n",
       "      <td>-1</td>\n",
       "      <td>-1</td>\n",
       "      <td>(1)</td>\n",
       "      <td>22</td>\n",
       "      <td>31</td>\n",
       "      <td>25</td>\n",
       "    </tr>\n",
       "    <tr>\n",
       "      <th>1</th>\n",
       "      <td>1</td>\n",
       "      <td>-1</td>\n",
       "      <td>-1</td>\n",
       "      <td>a</td>\n",
       "      <td>32</td>\n",
       "      <td>43</td>\n",
       "      <td>29</td>\n",
       "    </tr>\n",
       "    <tr>\n",
       "      <th>2</th>\n",
       "      <td>-1</td>\n",
       "      <td>1</td>\n",
       "      <td>-1</td>\n",
       "      <td>b</td>\n",
       "      <td>35</td>\n",
       "      <td>34</td>\n",
       "      <td>50</td>\n",
       "    </tr>\n",
       "    <tr>\n",
       "      <th>3</th>\n",
       "      <td>1</td>\n",
       "      <td>1</td>\n",
       "      <td>-1</td>\n",
       "      <td>ab</td>\n",
       "      <td>55</td>\n",
       "      <td>47</td>\n",
       "      <td>46</td>\n",
       "    </tr>\n",
       "    <tr>\n",
       "      <th>4</th>\n",
       "      <td>-1</td>\n",
       "      <td>-1</td>\n",
       "      <td>1</td>\n",
       "      <td>c</td>\n",
       "      <td>44</td>\n",
       "      <td>45</td>\n",
       "      <td>38</td>\n",
       "    </tr>\n",
       "    <tr>\n",
       "      <th>5</th>\n",
       "      <td>1</td>\n",
       "      <td>-1</td>\n",
       "      <td>1</td>\n",
       "      <td>ac</td>\n",
       "      <td>40</td>\n",
       "      <td>37</td>\n",
       "      <td>36</td>\n",
       "    </tr>\n",
       "    <tr>\n",
       "      <th>6</th>\n",
       "      <td>-1</td>\n",
       "      <td>1</td>\n",
       "      <td>1</td>\n",
       "      <td>bc</td>\n",
       "      <td>60</td>\n",
       "      <td>50</td>\n",
       "      <td>54</td>\n",
       "    </tr>\n",
       "    <tr>\n",
       "      <th>7</th>\n",
       "      <td>1</td>\n",
       "      <td>1</td>\n",
       "      <td>1</td>\n",
       "      <td>abc</td>\n",
       "      <td>39</td>\n",
       "      <td>41</td>\n",
       "      <td>47</td>\n",
       "    </tr>\n",
       "  </tbody>\n",
       "</table>\n",
       "</div>"
      ],
      "text/plain": [
       "   a  b  c 처리조합   I  II  III\n",
       "0 -1 -1 -1  (1)  22  31   25\n",
       "1  1 -1 -1    a  32  43   29\n",
       "2 -1  1 -1    b  35  34   50\n",
       "3  1  1 -1   ab  55  47   46\n",
       "4 -1 -1  1    c  44  45   38\n",
       "5  1 -1  1   ac  40  37   36\n",
       "6 -1  1  1   bc  60  50   54\n",
       "7  1  1  1  abc  39  41   47"
      ]
     },
     "execution_count": 1,
     "metadata": {},
     "output_type": "execute_result"
    }
   ],
   "source": [
    "import pandas as pd\n",
    "import numpy as np\n",
    "import statsmodels.api as sm\n",
    "\n",
    "df = pd.DataFrame({\n",
    "    'a': [-1, 1, -1, 1, -1, 1, -1, 1],\n",
    "    'b': [-1, -1, 1, 1, -1, -1, 1, 1],\n",
    "    'c': [-1,-1,-1,-1, 1, 1, 1, 1],\n",
    "    '처리조합': ['(1)', 'a', 'b', 'ab', 'c', 'ac', 'bc', 'abc'],\n",
    "    'I': [22, 32, 35, 55, 44, 40, 60, 39],\n",
    "    'II': [31, 43, 34, 47, 45, 37, 50, 41],\n",
    "    'III': [25, 29, 50, 46, 38, 36, 54, 47]\n",
    "})\n",
    "\n",
    "df"
   ]
  },
  {
   "cell_type": "markdown",
   "metadata": {},
   "source": [
    "## 효과 계산"
   ]
  },
  {
   "cell_type": "code",
   "execution_count": 2,
   "metadata": {},
   "outputs": [
    {
     "name": "stdout",
     "output_type": "stream",
     "text": [
      "요인 a의 효과: 0.3333333333333339\n",
      "요인 b의 효과: 11.333333333333334\n",
      "요인 ab의 효과: -1.6666666666666625\n",
      "요인 c의 효과: 6.833333333333336\n",
      "요인 ac의 효과: -8.833333333333334\n",
      "요인 bc의 효과: -2.833333333333334\n",
      "요인 abc의 효과: -2.166666666666666\n"
     ]
    }
   ],
   "source": [
    "from DOE import effect_est\n",
    "\n",
    "for fac in df['처리조합']:\n",
    "    if fac == '(1)':\n",
    "        continue\n",
    "    print(f'요인 {fac}의 효과:', effect_est(data=df, sign_col=[f for f in fac], value_cols=['I','II', 'III']))"
   ]
  },
  {
   "cell_type": "markdown",
   "metadata": {},
   "source": [
    "절대값 기준 분석:\n",
    "- b가 가장 강한 효과를 보임\n",
    "- ac, c도 강한 효과\n",
    "- bc도 유의한 효과가 있어 보임"
   ]
  },
  {
   "cell_type": "markdown",
   "metadata": {},
   "source": [
    "# (b) 분산분석-유의수준 0.05"
   ]
  },
  {
   "cell_type": "markdown",
   "metadata": {},
   "source": [
    "## 데이터프레임 형식 변경\n",
    "_To long-format_"
   ]
  },
  {
   "cell_type": "code",
   "execution_count": 3,
   "metadata": {},
   "outputs": [
    {
     "data": {
      "text/html": [
       "<div>\n",
       "<style scoped>\n",
       "    .dataframe tbody tr th:only-of-type {\n",
       "        vertical-align: middle;\n",
       "    }\n",
       "\n",
       "    .dataframe tbody tr th {\n",
       "        vertical-align: top;\n",
       "    }\n",
       "\n",
       "    .dataframe thead th {\n",
       "        text-align: right;\n",
       "    }\n",
       "</style>\n",
       "<table border=\"1\" class=\"dataframe\">\n",
       "  <thead>\n",
       "    <tr style=\"text-align: right;\">\n",
       "      <th></th>\n",
       "      <th>a</th>\n",
       "      <th>b</th>\n",
       "      <th>c</th>\n",
       "      <th>Replication</th>\n",
       "      <th>Response</th>\n",
       "    </tr>\n",
       "  </thead>\n",
       "  <tbody>\n",
       "    <tr>\n",
       "      <th>0</th>\n",
       "      <td>-1</td>\n",
       "      <td>-1</td>\n",
       "      <td>-1</td>\n",
       "      <td>I</td>\n",
       "      <td>22</td>\n",
       "    </tr>\n",
       "    <tr>\n",
       "      <th>1</th>\n",
       "      <td>1</td>\n",
       "      <td>-1</td>\n",
       "      <td>-1</td>\n",
       "      <td>I</td>\n",
       "      <td>32</td>\n",
       "    </tr>\n",
       "    <tr>\n",
       "      <th>2</th>\n",
       "      <td>-1</td>\n",
       "      <td>1</td>\n",
       "      <td>-1</td>\n",
       "      <td>I</td>\n",
       "      <td>35</td>\n",
       "    </tr>\n",
       "    <tr>\n",
       "      <th>3</th>\n",
       "      <td>1</td>\n",
       "      <td>1</td>\n",
       "      <td>-1</td>\n",
       "      <td>I</td>\n",
       "      <td>55</td>\n",
       "    </tr>\n",
       "    <tr>\n",
       "      <th>4</th>\n",
       "      <td>-1</td>\n",
       "      <td>-1</td>\n",
       "      <td>1</td>\n",
       "      <td>I</td>\n",
       "      <td>44</td>\n",
       "    </tr>\n",
       "  </tbody>\n",
       "</table>\n",
       "</div>"
      ],
      "text/plain": [
       "   a  b  c Replication  Response\n",
       "0 -1 -1 -1           I        22\n",
       "1  1 -1 -1           I        32\n",
       "2 -1  1 -1           I        35\n",
       "3  1  1 -1           I        55\n",
       "4 -1 -1  1           I        44"
      ]
     },
     "execution_count": 3,
     "metadata": {},
     "output_type": "execute_result"
    }
   ],
   "source": [
    "df_long = df.melt(id_vars=['a', 'b', 'c'], \n",
    "                  value_vars=['I', 'II', 'III'], \n",
    "                  var_name='Replication', \n",
    "                  value_name='Response')\n",
    "df_long.head()"
   ]
  },
  {
   "cell_type": "markdown",
   "metadata": {},
   "source": [
    "## 최소제곱법 응용 분산분석(설계행렬 기반)"
   ]
  },
  {
   "cell_type": "code",
   "execution_count": 4,
   "metadata": {},
   "outputs": [
    {
     "data": {
      "text/html": [
       "<div>\n",
       "<style scoped>\n",
       "    .dataframe tbody tr th:only-of-type {\n",
       "        vertical-align: middle;\n",
       "    }\n",
       "\n",
       "    .dataframe tbody tr th {\n",
       "        vertical-align: top;\n",
       "    }\n",
       "\n",
       "    .dataframe thead th {\n",
       "        text-align: right;\n",
       "    }\n",
       "</style>\n",
       "<table border=\"1\" class=\"dataframe\">\n",
       "  <thead>\n",
       "    <tr style=\"text-align: right;\">\n",
       "      <th></th>\n",
       "      <th>df</th>\n",
       "      <th>sum_sq</th>\n",
       "      <th>mean_sq</th>\n",
       "      <th>F</th>\n",
       "      <th>PR(&gt;F)</th>\n",
       "    </tr>\n",
       "  </thead>\n",
       "  <tbody>\n",
       "    <tr>\n",
       "      <th>a</th>\n",
       "      <td>1.0</td>\n",
       "      <td>0.666667</td>\n",
       "      <td>0.666667</td>\n",
       "      <td>0.022099</td>\n",
       "      <td>0.883680</td>\n",
       "    </tr>\n",
       "    <tr>\n",
       "      <th>b</th>\n",
       "      <td>1.0</td>\n",
       "      <td>770.666667</td>\n",
       "      <td>770.666667</td>\n",
       "      <td>25.546961</td>\n",
       "      <td>0.000117</td>\n",
       "    </tr>\n",
       "    <tr>\n",
       "      <th>a:b</th>\n",
       "      <td>1.0</td>\n",
       "      <td>16.666667</td>\n",
       "      <td>16.666667</td>\n",
       "      <td>0.552486</td>\n",
       "      <td>0.468078</td>\n",
       "    </tr>\n",
       "    <tr>\n",
       "      <th>c</th>\n",
       "      <td>1.0</td>\n",
       "      <td>280.166667</td>\n",
       "      <td>280.166667</td>\n",
       "      <td>9.287293</td>\n",
       "      <td>0.007679</td>\n",
       "    </tr>\n",
       "    <tr>\n",
       "      <th>a:c</th>\n",
       "      <td>1.0</td>\n",
       "      <td>468.166667</td>\n",
       "      <td>468.166667</td>\n",
       "      <td>15.519337</td>\n",
       "      <td>0.001172</td>\n",
       "    </tr>\n",
       "    <tr>\n",
       "      <th>b:c</th>\n",
       "      <td>1.0</td>\n",
       "      <td>48.166667</td>\n",
       "      <td>48.166667</td>\n",
       "      <td>1.596685</td>\n",
       "      <td>0.224475</td>\n",
       "    </tr>\n",
       "    <tr>\n",
       "      <th>a:b:c</th>\n",
       "      <td>1.0</td>\n",
       "      <td>28.166667</td>\n",
       "      <td>28.166667</td>\n",
       "      <td>0.933702</td>\n",
       "      <td>0.348282</td>\n",
       "    </tr>\n",
       "    <tr>\n",
       "      <th>Residual</th>\n",
       "      <td>16.0</td>\n",
       "      <td>482.666667</td>\n",
       "      <td>30.166667</td>\n",
       "      <td>NaN</td>\n",
       "      <td>NaN</td>\n",
       "    </tr>\n",
       "  </tbody>\n",
       "</table>\n",
       "</div>"
      ],
      "text/plain": [
       "            df      sum_sq     mean_sq          F    PR(>F)\n",
       "a          1.0    0.666667    0.666667   0.022099  0.883680\n",
       "b          1.0  770.666667  770.666667  25.546961  0.000117\n",
       "a:b        1.0   16.666667   16.666667   0.552486  0.468078\n",
       "c          1.0  280.166667  280.166667   9.287293  0.007679\n",
       "a:c        1.0  468.166667  468.166667  15.519337  0.001172\n",
       "b:c        1.0   48.166667   48.166667   1.596685  0.224475\n",
       "a:b:c      1.0   28.166667   28.166667   0.933702  0.348282\n",
       "Residual  16.0  482.666667   30.166667        NaN       NaN"
      ]
     },
     "execution_count": 4,
     "metadata": {},
     "output_type": "execute_result"
    }
   ],
   "source": [
    "model = sm.OLS.from_formula(formula='Response ~ a * b * c', data=df_long).fit()\n",
    "\n",
    "sm.stats.anova_lm(model)"
   ]
  },
  {
   "cell_type": "markdown",
   "metadata": {},
   "source": [
    "bc를 제외하면 전부 예상에 들어맞았다."
   ]
  },
  {
   "cell_type": "markdown",
   "metadata": {},
   "source": [
    "# (C) 회귀모형 작성"
   ]
  },
  {
   "cell_type": "markdown",
   "metadata": {},
   "source": [
    "기본 분산분석 모형:\n",
    "\n",
    "$$\n",
    "Y = A_i + B_j + C_k + (AB)_{ij} + (AC)_{ik} + (BC)_{jk} + (ABC)_{ijk} + \\epsilon_{ijk}\n",
    "$$\n",
    "\n",
    "$$\n",
    "\\begin{cases}\n",
    "i = 1, 2\\\\ j=1,2\\\\k=1,2\n",
    "\\end{cases}\n",
    "$$"
   ]
  },
  {
   "cell_type": "code",
   "execution_count": 5,
   "metadata": {},
   "outputs": [
    {
     "data": {
      "text/html": [
       "<table class=\"simpletable\">\n",
       "<caption>OLS Regression Results</caption>\n",
       "<tr>\n",
       "  <th>Dep. Variable:</th>        <td>Response</td>     <th>  R-squared:         </th> <td>   0.770</td>\n",
       "</tr>\n",
       "<tr>\n",
       "  <th>Model:</th>                   <td>OLS</td>       <th>  Adj. R-squared:    </th> <td>   0.669</td>\n",
       "</tr>\n",
       "<tr>\n",
       "  <th>Method:</th>             <td>Least Squares</td>  <th>  F-statistic:       </th> <td>   7.637</td>\n",
       "</tr>\n",
       "<tr>\n",
       "  <th>Date:</th>             <td>Wed, 04 Dec 2024</td> <th>  Prob (F-statistic):</th> <td>0.000398</td>\n",
       "</tr>\n",
       "<tr>\n",
       "  <th>Time:</th>                 <td>15:34:18</td>     <th>  Log-Likelihood:    </th> <td> -70.070</td>\n",
       "</tr>\n",
       "<tr>\n",
       "  <th>No. Observations:</th>      <td>    24</td>      <th>  AIC:               </th> <td>   156.1</td>\n",
       "</tr>\n",
       "<tr>\n",
       "  <th>Df Residuals:</th>          <td>    16</td>      <th>  BIC:               </th> <td>   165.6</td>\n",
       "</tr>\n",
       "<tr>\n",
       "  <th>Df Model:</th>              <td>     7</td>      <th>                     </th>     <td> </td>   \n",
       "</tr>\n",
       "<tr>\n",
       "  <th>Covariance Type:</th>      <td>nonrobust</td>    <th>                     </th>     <td> </td>   \n",
       "</tr>\n",
       "</table>\n",
       "<table class=\"simpletable\">\n",
       "<tr>\n",
       "      <td></td>         <th>coef</th>     <th>std err</th>      <th>t</th>      <th>P>|t|</th>  <th>[0.025</th>    <th>0.975]</th>  \n",
       "</tr>\n",
       "<tr>\n",
       "  <th>Intercept</th> <td>   40.8333</td> <td>    1.121</td> <td>   36.421</td> <td> 0.000</td> <td>   38.457</td> <td>   43.210</td>\n",
       "</tr>\n",
       "<tr>\n",
       "  <th>a</th>         <td>    0.1667</td> <td>    1.121</td> <td>    0.149</td> <td> 0.884</td> <td>   -2.210</td> <td>    2.543</td>\n",
       "</tr>\n",
       "<tr>\n",
       "  <th>b</th>         <td>    5.6667</td> <td>    1.121</td> <td>    5.054</td> <td> 0.000</td> <td>    3.290</td> <td>    8.043</td>\n",
       "</tr>\n",
       "<tr>\n",
       "  <th>a:b</th>       <td>   -0.8333</td> <td>    1.121</td> <td>   -0.743</td> <td> 0.468</td> <td>   -3.210</td> <td>    1.543</td>\n",
       "</tr>\n",
       "<tr>\n",
       "  <th>c</th>         <td>    3.4167</td> <td>    1.121</td> <td>    3.048</td> <td> 0.008</td> <td>    1.040</td> <td>    5.793</td>\n",
       "</tr>\n",
       "<tr>\n",
       "  <th>a:c</th>       <td>   -4.4167</td> <td>    1.121</td> <td>   -3.939</td> <td> 0.001</td> <td>   -6.793</td> <td>   -2.040</td>\n",
       "</tr>\n",
       "<tr>\n",
       "  <th>b:c</th>       <td>   -1.4167</td> <td>    1.121</td> <td>   -1.264</td> <td> 0.224</td> <td>   -3.793</td> <td>    0.960</td>\n",
       "</tr>\n",
       "<tr>\n",
       "  <th>a:b:c</th>     <td>   -1.0833</td> <td>    1.121</td> <td>   -0.966</td> <td> 0.348</td> <td>   -3.460</td> <td>    1.293</td>\n",
       "</tr>\n",
       "</table>\n",
       "<table class=\"simpletable\">\n",
       "<tr>\n",
       "  <th>Omnibus:</th>       <td> 2.520</td> <th>  Durbin-Watson:     </th> <td>   2.209</td>\n",
       "</tr>\n",
       "<tr>\n",
       "  <th>Prob(Omnibus):</th> <td> 0.284</td> <th>  Jarque-Bera (JB):  </th> <td>   2.170</td>\n",
       "</tr>\n",
       "<tr>\n",
       "  <th>Skew:</th>          <td> 0.671</td> <th>  Prob(JB):          </th> <td>   0.338</td>\n",
       "</tr>\n",
       "<tr>\n",
       "  <th>Kurtosis:</th>      <td> 2.391</td> <th>  Cond. No.          </th> <td>    1.00</td>\n",
       "</tr>\n",
       "</table><br/><br/>Notes:<br/>[1] Standard Errors assume that the covariance matrix of the errors is correctly specified."
      ],
      "text/plain": [
       "<class 'statsmodels.iolib.summary.Summary'>\n",
       "\"\"\"\n",
       "                            OLS Regression Results                            \n",
       "==============================================================================\n",
       "Dep. Variable:               Response   R-squared:                       0.770\n",
       "Model:                            OLS   Adj. R-squared:                  0.669\n",
       "Method:                 Least Squares   F-statistic:                     7.637\n",
       "Date:                Wed, 04 Dec 2024   Prob (F-statistic):           0.000398\n",
       "Time:                        15:34:18   Log-Likelihood:                -70.070\n",
       "No. Observations:                  24   AIC:                             156.1\n",
       "Df Residuals:                      16   BIC:                             165.6\n",
       "Df Model:                           7                                         \n",
       "Covariance Type:            nonrobust                                         \n",
       "==============================================================================\n",
       "                 coef    std err          t      P>|t|      [0.025      0.975]\n",
       "------------------------------------------------------------------------------\n",
       "Intercept     40.8333      1.121     36.421      0.000      38.457      43.210\n",
       "a              0.1667      1.121      0.149      0.884      -2.210       2.543\n",
       "b              5.6667      1.121      5.054      0.000       3.290       8.043\n",
       "a:b           -0.8333      1.121     -0.743      0.468      -3.210       1.543\n",
       "c              3.4167      1.121      3.048      0.008       1.040       5.793\n",
       "a:c           -4.4167      1.121     -3.939      0.001      -6.793      -2.040\n",
       "b:c           -1.4167      1.121     -1.264      0.224      -3.793       0.960\n",
       "a:b:c         -1.0833      1.121     -0.966      0.348      -3.460       1.293\n",
       "==============================================================================\n",
       "Omnibus:                        2.520   Durbin-Watson:                   2.209\n",
       "Prob(Omnibus):                  0.284   Jarque-Bera (JB):                2.170\n",
       "Skew:                           0.671   Prob(JB):                        0.338\n",
       "Kurtosis:                       2.391   Cond. No.                         1.00\n",
       "==============================================================================\n",
       "\n",
       "Notes:\n",
       "[1] Standard Errors assume that the covariance matrix of the errors is correctly specified.\n",
       "\"\"\""
      ]
     },
     "execution_count": 5,
     "metadata": {},
     "output_type": "execute_result"
    }
   ],
   "source": [
    "model.summary(alpha=0.05) # 95% 신뢰구간 출력 옵션"
   ]
  },
  {
   "cell_type": "markdown",
   "metadata": {},
   "source": [
    "적합된 회귀모형:\n",
    "\n",
    "$$\n",
    "y = 40.83 + + 5.67B + 3.42C - 4.42AC\n",
    "$$\n",
    "\n",
    "$40.83$은 전체 평균, 계수들은 평균 효과를 수준 개수 2로 나눈 것"
   ]
  },
  {
   "cell_type": "markdown",
   "metadata": {},
   "source": [
    "# (d) 잔차분석"
   ]
  },
  {
   "cell_type": "markdown",
   "metadata": {},
   "source": [
    "## 표준화 잔차 그림"
   ]
  },
  {
   "cell_type": "code",
   "execution_count": 6,
   "metadata": {},
   "outputs": [
    {
     "data": {
      "image/png": "[encoded data removed]",
      "text/plain": [
       "<Figure size 640x480 with 1 Axes>"
      ]
     },
     "metadata": {},
     "output_type": "display_data"
    }
   ],
   "source": [
    "import matplotlib.pyplot as plt\n",
    "import seaborn as sns\n",
    "\n",
    "sns.scatterplot(data=(model.resid - np.mean(model.resid)) / np.std(model.resid))\n",
    "plt.xlabel('Index')\n",
    "plt.ylabel('Standardized Residuals')\n",
    "plt.title('Standardized Residuals vs. Index')\n",
    "plt.show()"
   ]
  },
  {
   "cell_type": "markdown",
   "metadata": {},
   "source": [
    "## 정규확률그림"
   ]
  },
  {
   "cell_type": "code",
   "execution_count": 7,
   "metadata": {},
   "outputs": [
    {
     "data": {
      "image/png": "[encoded data removed]",
      "text/plain": [
       "<Figure size 640x480 with 1 Axes>"
      ]
     },
     "metadata": {},
     "output_type": "display_data"
    }
   ],
   "source": [
    "sm.qqplot(data=model.resid, line='s')\n",
    "plt.title('QQ plot of residuals')\n",
    "plt.show()"
   ]
  },
  {
   "cell_type": "markdown",
   "metadata": {},
   "source": [
    "## 잔차 대 적합값 그림"
   ]
  },
  {
   "cell_type": "code",
   "execution_count": 8,
   "metadata": {},
   "outputs": [
    {
     "data": {
      "image/png": "[encoded data removed]",
      "text/plain": [
       "<Figure size 640x480 with 1 Axes>"
      ]
     },
     "metadata": {},
     "output_type": "display_data"
    }
   ],
   "source": [
    "sns.scatterplot(x=model.fittedvalues, y=model.resid)\n",
    "plt.title('Fitted vs Residuals')\n",
    "plt.xlabel('Fitted values')\n",
    "plt.ylabel('Residuals')\n",
    "plt.show()"
   ]
  },
  {
   "cell_type": "markdown",
   "metadata": {},
   "source": [
    "## ECDF vs. 정규난수"
   ]
  },
  {
   "cell_type": "code",
   "execution_count": 9,
   "metadata": {},
   "outputs": [
    {
     "data": {
      "image/png": "[encoded data removed]",
      "text/plain": [
       "<Figure size 640x480 with 1 Axes>"
      ]
     },
     "metadata": {},
     "output_type": "display_data"
    }
   ],
   "source": [
    "sns.ecdfplot(data=model.resid, label='Residuals')\n",
    "sns.ecdfplot(data=np.random.normal(loc=np.mean(model.resid), scale=np.std(model.resid), size=1000), label='Normal distribution')\n",
    "plt.title('Residual ECDF vs. Normal distribution')\n",
    "plt.legend()\n",
    "plt.show()"
   ]
  },
  {
   "cell_type": "markdown",
   "metadata": {},
   "source": [
    "잔차는 정규성, 등분산성을 만족하는 것으로 보이나, 일부 데이터가 좀 멀리 떨어져 있긴 하다."
   ]
  }
 ],
 "metadata": {
  "kernelspec": {
   "display_name": "doe_env",
   "language": "python",
   "name": "python3"
  },
  "language_info": {
   "codemirror_mode": {
    "name": "ipython",
    "version": 3
   },
   "file_extension": ".py",
   "mimetype": "text/x-python",
   "name": "python",
   "nbconvert_exporter": "python",
   "pygments_lexer": "ipython3",
   "version": "3.10.15"
  }
 },
 "nbformat": 4,
 "nbformat_minor": 2
}
