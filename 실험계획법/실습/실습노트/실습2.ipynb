{
 "cells": [
  {
   "cell_type": "markdown",
   "metadata": {},
   "source": [
    "# 독립표본/이표본 t 검정"
   ]
  },
  {
   "cell_type": "code",
   "execution_count": 2,
   "metadata": {},
   "outputs": [
    {
     "name": "stdout",
     "output_type": "stream",
     "text": [
      "t-통계량: -8.308492514617756\n",
      "유의확률: 1.6747674002280215e-07\n"
     ]
    }
   ],
   "source": [
    "import numpy as np\n",
    "from scipy.stats import ttest_ind\n",
    "\n",
    "A = [12, 14, 16, 19, 15, 14, 13, 18, 16, 17]\n",
    "B = [22, 23, 20, 21, 25, 22, 23, 24, 26, 25]\n",
    "\n",
    "t_stat, p_value = ttest_ind(A, B, equal_var=False)\n",
    "\n",
    "print(f't-통계량: {t_stat}')\n",
    "print('유의확률:', p_value)"
   ]
  },
  {
   "cell_type": "markdown",
   "metadata": {},
   "source": [
    "## 이표본 t 검정에 대한 신뢰구간 계산"
   ]
  },
  {
   "cell_type": "code",
   "execution_count": 5,
   "metadata": {},
   "outputs": [
    {
     "name": "stdout",
     "output_type": "stream",
     "text": [
      "독립표본 t-검정의 신뢰구간(표본평균의 차이):\n",
      "(-9.647055940821252, -5.75294405917875)\n"
     ]
    }
   ],
   "source": [
    "meanA = np.mean(A)\n",
    "meanB = np.mean(B)\n",
    "stdA = np.std(A, ddof=1)\n",
    "stdB = np.std(B, ddof=1)\n",
    "\n",
    "nA = len(A)\n",
    "nB = len(B)\n",
    "\n",
    "SE = np.sqrt(stdA**2/nA + stdB**2/nB)\n",
    "\n",
    "df = nA + nB - 2\n",
    "\n",
    "from scipy.stats.distributions import t\n",
    "\n",
    "t_critical = t(df).ppf(0.975)\n",
    "\n",
    "confidence_interval = (meanA - meanB) - t_critical* SE, (meanA - meanB) + t_critical* SE\n",
    "print('독립표본 t-검정의 신뢰구간(표본평균의 차이):')\n",
    "print(confidence_interval)"
   ]
  },
  {
   "cell_type": "markdown",
   "metadata": {},
   "source": [
    "# 쌍체/대응표본 t-검정 (Paired t-test)"
   ]
  },
  {
   "cell_type": "code",
   "execution_count": 6,
   "metadata": {},
   "outputs": [
    {
     "name": "stdout",
     "output_type": "stream",
     "text": [
      "t-statistic: -8.510497719203702\n",
      "p-value: 1.345895633624135e-05\n"
     ]
    }
   ],
   "source": [
    "import numpy as np\n",
    "from scipy import stats\n",
    "# 예시 데이터 (같은 그룹에서 처리 전후 데이터)\n",
    "before = [12, 14, 16, 19, 15, 14, 13, 18, 16, 17]\n",
    "after = [15, 17, 18, 20, 19, 17, 16, 21, 19, 18]\n",
    "# 대응표본 t-검정\n",
    "t_stat, p_value = stats.ttest_rel(before, after)\n",
    "print(f't-statistic: {t_stat}')\n",
    "print(f'p-value: {p_value}')"
   ]
  },
  {
   "cell_type": "markdown",
   "metadata": {},
   "source": [
    "## 신뢰구간 계산"
   ]
  },
  {
   "cell_type": "code",
   "execution_count": 7,
   "metadata": {},
   "outputs": [
    {
     "name": "stdout",
     "output_type": "stream",
     "text": [
      "대응표본 t-검정의 신뢰구간:\n",
      "(1.9088995711901915, 3.2911004288098087)\n"
     ]
    }
   ],
   "source": [
    "diff = [b - a for a, b in zip(before, after)]\n",
    "\n",
    "mean_diff = np.mean(diff)\n",
    "std_diff = np.std(diff, ddof=1)\n",
    "n = len(diff)\n",
    "\n",
    "SE_diff = std_diff/np.sqrt(n)\n",
    "\n",
    "df_diff = n-1\n",
    "\n",
    "t_crit = t(df_diff).ppf(0.975)\n",
    "\n",
    "confint_diff = (mean_diff - t_crit * SE_diff, mean_diff + t_crit * SE_diff)\n",
    "\n",
    "print('대응표본 t-검정의 신뢰구간:')\n",
    "print(confint_diff)"
   ]
  }
 ],
 "metadata": {
  "kernelspec": {
   "display_name": "base",
   "language": "python",
   "name": "python3"
  },
  "language_info": {
   "codemirror_mode": {
    "name": "ipython",
    "version": 3
   },
   "file_extension": ".py",
   "mimetype": "text/x-python",
   "name": "python",
   "nbconvert_exporter": "python",
   "pygments_lexer": "ipython3",
   "version": "3.12.3"
  }
 },
 "nbformat": 4,
 "nbformat_minor": 2
}
